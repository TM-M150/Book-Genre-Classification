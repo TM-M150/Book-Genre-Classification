{
  "cells": [
    {
      "cell_type": "markdown",
      "metadata": {
        "id": "view-in-github",
        "colab_type": "text"
      },
      "source": [
        "<a href=\"https://colab.research.google.com/github/TM-M150/Book-Genre-Classification/blob/master/Best_TFIDF-Vectorizer_model.ipynb\" target=\"_parent\"><img src=\"https://colab.research.google.com/assets/colab-badge.svg\" alt=\"Open In Colab\"/></a>"
      ]
    },
    {
      "cell_type": "code",
      "execution_count": 5,
      "metadata": {
        "id": "M4Rh2N6e5h0s"
      },
      "outputs": [],
      "source": [
        "import numpy as np\n",
        "import pandas as pd\n",
        "import re\n",
        "from sklearn.feature_extraction.text import TfidfVectorizer"
      ]
    },
    {
      "cell_type": "code",
      "execution_count": 6,
      "metadata": {
        "collapsed": true,
        "id": "VX_GgoDz5h0u"
      },
      "outputs": [],
      "source": [
        "data = pd.read_csv('/content/drive/MyDrive/Data/book32-listing.csv',encoding = \"ISO-8859-1\")"
      ]
    },
    {
      "cell_type": "code",
      "execution_count": 7,
      "metadata": {
        "collapsed": true,
        "id": "dkYyi3U05h0u"
      },
      "outputs": [],
      "source": [
        "###dsa as as \n",
        "columns = ['Id', 'Image', 'Image_link', 'Title', 'Author', 'Class', 'Genre']\n",
        "data.columns = columns"
      ]
    },
    {
      "cell_type": "code",
      "execution_count": 8,
      "metadata": {
        "collapsed": true,
        "id": "1bl_l6U05h0u"
      },
      "outputs": [],
      "source": [
        "books = pd.DataFrame(data['Title'])\n",
        "author = pd.DataFrame(data['Author'])\n",
        "genre = pd.DataFrame(data['Genre'])"
      ]
    },
    {
      "cell_type": "code",
      "execution_count": 9,
      "metadata": {
        "id": "3CqjFY185h0v"
      },
      "outputs": [],
      "source": [
        "data['Author'] = data['Author'].fillna('No Book')\n",
        "data['Title'] = data['Title'].fillna('No Book')"
      ]
    },
    {
      "cell_type": "code",
      "execution_count": 10,
      "metadata": {
        "colab": {
          "base_uri": "https://localhost:8080/",
          "height": 458
        },
        "id": "j-kp3-cz5h0v",
        "outputId": "a1c43f75-9ff6-4c5d-e3b6-0b78b55f2875"
      },
      "outputs": [
        {
          "output_type": "stream",
          "name": "stdout",
          "text": [
            "207571\n",
            "207571\n"
          ]
        },
        {
          "output_type": "execute_result",
          "data": {
            "text/plain": [
              "                                                   Title\n",
              "50000  The Ultimate Sock Puppet Book: Clever Tips, Tr...\n",
              "50001             Puppets, Masks, and Performing Objects\n",
              "50002  Felt Board Fingerplays with Patterns & Activit...\n",
              "50003  Jim Henson and Philosophy: Imagination and the...\n",
              "50004                      Wael Shawky: Cabaret Crusades\n",
              "...                                                  ...\n",
              "50105  4G: LTE/LTE-Advanced for Mobile Broadband, Sec...\n",
              "50106  Spotlight Synthetic Aperture Radar: Signal Pro...\n",
              "50107  Heterogeneous Cellular Networks: Theory, Simul...\n",
              "50108  Plain-English Study Guide for the General Radi...\n",
              "50109  Quick Study for Your General Class Amateur Rad...\n",
              "\n",
              "[110 rows x 1 columns]"
            ],
            "text/html": [
              "\n",
              "  <div id=\"df-4951631d-0f38-42d8-a771-ab3707e5d556\">\n",
              "    <div class=\"colab-df-container\">\n",
              "      <div>\n",
              "<style scoped>\n",
              "    .dataframe tbody tr th:only-of-type {\n",
              "        vertical-align: middle;\n",
              "    }\n",
              "\n",
              "    .dataframe tbody tr th {\n",
              "        vertical-align: top;\n",
              "    }\n",
              "\n",
              "    .dataframe thead th {\n",
              "        text-align: right;\n",
              "    }\n",
              "</style>\n",
              "<table border=\"1\" class=\"dataframe\">\n",
              "  <thead>\n",
              "    <tr style=\"text-align: right;\">\n",
              "      <th></th>\n",
              "      <th>Title</th>\n",
              "    </tr>\n",
              "  </thead>\n",
              "  <tbody>\n",
              "    <tr>\n",
              "      <th>50000</th>\n",
              "      <td>The Ultimate Sock Puppet Book: Clever Tips, Tr...</td>\n",
              "    </tr>\n",
              "    <tr>\n",
              "      <th>50001</th>\n",
              "      <td>Puppets, Masks, and Performing Objects</td>\n",
              "    </tr>\n",
              "    <tr>\n",
              "      <th>50002</th>\n",
              "      <td>Felt Board Fingerplays with Patterns &amp; Activit...</td>\n",
              "    </tr>\n",
              "    <tr>\n",
              "      <th>50003</th>\n",
              "      <td>Jim Henson and Philosophy: Imagination and the...</td>\n",
              "    </tr>\n",
              "    <tr>\n",
              "      <th>50004</th>\n",
              "      <td>Wael Shawky: Cabaret Crusades</td>\n",
              "    </tr>\n",
              "    <tr>\n",
              "      <th>...</th>\n",
              "      <td>...</td>\n",
              "    </tr>\n",
              "    <tr>\n",
              "      <th>50105</th>\n",
              "      <td>4G: LTE/LTE-Advanced for Mobile Broadband, Sec...</td>\n",
              "    </tr>\n",
              "    <tr>\n",
              "      <th>50106</th>\n",
              "      <td>Spotlight Synthetic Aperture Radar: Signal Pro...</td>\n",
              "    </tr>\n",
              "    <tr>\n",
              "      <th>50107</th>\n",
              "      <td>Heterogeneous Cellular Networks: Theory, Simul...</td>\n",
              "    </tr>\n",
              "    <tr>\n",
              "      <th>50108</th>\n",
              "      <td>Plain-English Study Guide for the General Radi...</td>\n",
              "    </tr>\n",
              "    <tr>\n",
              "      <th>50109</th>\n",
              "      <td>Quick Study for Your General Class Amateur Rad...</td>\n",
              "    </tr>\n",
              "  </tbody>\n",
              "</table>\n",
              "<p>110 rows × 1 columns</p>\n",
              "</div>\n",
              "      <button class=\"colab-df-convert\" onclick=\"convertToInteractive('df-4951631d-0f38-42d8-a771-ab3707e5d556')\"\n",
              "              title=\"Convert this dataframe to an interactive table.\"\n",
              "              style=\"display:none;\">\n",
              "        \n",
              "  <svg xmlns=\"http://www.w3.org/2000/svg\" height=\"24px\"viewBox=\"0 0 24 24\"\n",
              "       width=\"24px\">\n",
              "    <path d=\"M0 0h24v24H0V0z\" fill=\"none\"/>\n",
              "    <path d=\"M18.56 5.44l.94 2.06.94-2.06 2.06-.94-2.06-.94-.94-2.06-.94 2.06-2.06.94zm-11 1L8.5 8.5l.94-2.06 2.06-.94-2.06-.94L8.5 2.5l-.94 2.06-2.06.94zm10 10l.94 2.06.94-2.06 2.06-.94-2.06-.94-.94-2.06-.94 2.06-2.06.94z\"/><path d=\"M17.41 7.96l-1.37-1.37c-.4-.4-.92-.59-1.43-.59-.52 0-1.04.2-1.43.59L10.3 9.45l-7.72 7.72c-.78.78-.78 2.05 0 2.83L4 21.41c.39.39.9.59 1.41.59.51 0 1.02-.2 1.41-.59l7.78-7.78 2.81-2.81c.8-.78.8-2.07 0-2.86zM5.41 20L4 18.59l7.72-7.72 1.47 1.35L5.41 20z\"/>\n",
              "  </svg>\n",
              "      </button>\n",
              "      \n",
              "  <style>\n",
              "    .colab-df-container {\n",
              "      display:flex;\n",
              "      flex-wrap:wrap;\n",
              "      gap: 12px;\n",
              "    }\n",
              "\n",
              "    .colab-df-convert {\n",
              "      background-color: #E8F0FE;\n",
              "      border: none;\n",
              "      border-radius: 50%;\n",
              "      cursor: pointer;\n",
              "      display: none;\n",
              "      fill: #1967D2;\n",
              "      height: 32px;\n",
              "      padding: 0 0 0 0;\n",
              "      width: 32px;\n",
              "    }\n",
              "\n",
              "    .colab-df-convert:hover {\n",
              "      background-color: #E2EBFA;\n",
              "      box-shadow: 0px 1px 2px rgba(60, 64, 67, 0.3), 0px 1px 3px 1px rgba(60, 64, 67, 0.15);\n",
              "      fill: #174EA6;\n",
              "    }\n",
              "\n",
              "    [theme=dark] .colab-df-convert {\n",
              "      background-color: #3B4455;\n",
              "      fill: #D2E3FC;\n",
              "    }\n",
              "\n",
              "    [theme=dark] .colab-df-convert:hover {\n",
              "      background-color: #434B5C;\n",
              "      box-shadow: 0px 1px 3px 1px rgba(0, 0, 0, 0.15);\n",
              "      filter: drop-shadow(0px 1px 2px rgba(0, 0, 0, 0.3));\n",
              "      fill: #FFFFFF;\n",
              "    }\n",
              "  </style>\n",
              "\n",
              "      <script>\n",
              "        const buttonEl =\n",
              "          document.querySelector('#df-4951631d-0f38-42d8-a771-ab3707e5d556 button.colab-df-convert');\n",
              "        buttonEl.style.display =\n",
              "          google.colab.kernel.accessAllowed ? 'block' : 'none';\n",
              "\n",
              "        async function convertToInteractive(key) {\n",
              "          const element = document.querySelector('#df-4951631d-0f38-42d8-a771-ab3707e5d556');\n",
              "          const dataTable =\n",
              "            await google.colab.kernel.invokeFunction('convertToInteractive',\n",
              "                                                     [key], {});\n",
              "          if (!dataTable) return;\n",
              "\n",
              "          const docLinkHtml = 'Like what you see? Visit the ' +\n",
              "            '<a target=\"_blank\" href=https://colab.research.google.com/notebooks/data_table.ipynb>data table notebook</a>'\n",
              "            + ' to learn more about interactive tables.';\n",
              "          element.innerHTML = '';\n",
              "          dataTable['output_type'] = 'display_data';\n",
              "          await google.colab.output.renderOutput(dataTable, element);\n",
              "          const docLink = document.createElement('div');\n",
              "          docLink.innerHTML = docLinkHtml;\n",
              "          element.appendChild(docLink);\n",
              "        }\n",
              "      </script>\n",
              "    </div>\n",
              "  </div>\n",
              "  "
            ]
          },
          "metadata": {},
          "execution_count": 10
        }
      ],
      "source": [
        "print (len(books))\n",
        "print (len(genre))\n",
        "genre.head(2)\n",
        "books[50000:50110]"
      ]
    },
    {
      "cell_type": "code",
      "execution_count": 11,
      "metadata": {
        "colab": {
          "base_uri": "https://localhost:8080/"
        },
        "id": "CNreNpyN5h0w",
        "outputId": "afcaf77a-a95d-4150-c9d9-936db0751d87"
      },
      "outputs": [
        {
          "output_type": "stream",
          "name": "stdout",
          "text": [
            "207571\n",
            "207571\n"
          ]
        }
      ],
      "source": [
        "print (len(books))\n",
        "print (len(genre))\n",
        "#print (len(all_books))\n",
        "#print (len(all_genres))"
      ]
    },
    {
      "cell_type": "code",
      "execution_count": 12,
      "metadata": {
        "colab": {
          "base_uri": "https://localhost:8080/"
        },
        "id": "KT9S7DzC5h0w",
        "outputId": "8588546a-ba0f-40c4-ecec-f04141eb81a8"
      },
      "outputs": [
        {
          "output_type": "execute_result",
          "data": {
            "text/plain": [
              "array(['Calendars', 'Comics & Graphic Novels', 'Test Preparation',\n",
              "       'Mystery, Thriller & Suspense', 'Science Fiction & Fantasy',\n",
              "       'Romance', 'Humor & Entertainment', 'Literature & Fiction',\n",
              "       'Gay & Lesbian', 'Engineering & Transportation',\n",
              "       'Cookbooks, Food & Wine', 'Crafts, Hobbies & Home',\n",
              "       'Arts & Photography', 'Education & Teaching',\n",
              "       'Parenting & Relationships', 'Self-Help', 'Computers & Technology',\n",
              "       'Medical Books', 'Science & Math', 'Health, Fitness & Dieting',\n",
              "       'Business & Money', 'Law', 'Biographies & Memoirs', 'History',\n",
              "       'Politics & Social Sciences', 'Reference',\n",
              "       'Christian Books & Bibles', 'Religion & Spirituality',\n",
              "       'Sports & Outdoors', 'Teen & Young Adult', \"Children's Books\",\n",
              "       'Travel'], dtype=object)"
            ]
          },
          "metadata": {},
          "execution_count": 12
        }
      ],
      "source": [
        "genre['Genre'].unique()"
      ]
    },
    {
      "cell_type": "code",
      "execution_count": 13,
      "metadata": {
        "id": "iMvl67c05h0w"
      },
      "outputs": [],
      "source": [
        "from sklearn.preprocessing import LabelEncoder\n",
        "\n",
        "feat = ['Genre']\n",
        "for x in feat:\n",
        "    le = LabelEncoder()\n",
        "    le.fit(list(genre[x].values))\n",
        "    genre[x] = le.transform(list(genre[x]))\n",
        "    "
      ]
    },
    {
      "cell_type": "code",
      "execution_count": 14,
      "metadata": {
        "colab": {
          "base_uri": "https://localhost:8080/"
        },
        "id": "SqrQ6DAm5h0x",
        "outputId": "9ffd4149-1b3f-4cb1-a2ac-ecccdbd3a29b"
      },
      "outputs": [
        {
          "output_type": "execute_result",
          "data": {
            "text/plain": [
              "array([ 3,  6, 30, 19, 26, 24, 15, 17, 12, 11,  8,  9,  0, 10, 20, 27,  7,\n",
              "       18, 25, 13,  2, 16,  1, 14, 21, 22,  5, 23, 28, 29,  4, 31])"
            ]
          },
          "metadata": {},
          "execution_count": 14
        }
      ],
      "source": [
        "genre['Genre'].unique()"
      ]
    },
    {
      "cell_type": "code",
      "execution_count": 15,
      "metadata": {
        "colab": {
          "base_uri": "https://localhost:8080/",
          "height": 35
        },
        "id": "QxJpm8tH5h0x",
        "outputId": "358c073e-c778-4752-f3bf-ad724c835595"
      },
      "outputs": [
        {
          "output_type": "execute_result",
          "data": {
            "text/plain": [
              "'Arts & Photography'"
            ],
            "application/vnd.google.colaboratory.intrinsic+json": {
              "type": "string"
            }
          },
          "metadata": {},
          "execution_count": 15
        }
      ],
      "source": [
        "le.inverse_transform([0])[0]"
      ]
    },
    {
      "cell_type": "code",
      "execution_count": 16,
      "metadata": {
        "colab": {
          "base_uri": "https://localhost:8080/"
        },
        "id": "fg8KycvL5h0x",
        "outputId": "ea6748c1-d221-4f38-f5b8-a92200962516"
      },
      "outputs": [
        {
          "output_type": "stream",
          "name": "stdout",
          "text": [
            "0         Doug the Pug 2016 Wall Calendar Doug the Pug\n",
            "1    Moleskine 2016 Weekly Notebook, 12M, Large, Bl...\n",
            "2    365 Cats Color Page-A-Day Calendar 2016 Workma...\n",
            "3     Sierra Club Engagement Calendar 2016 Sierra Club\n",
            "4     Sierra Club Wilderness Calendar 2016 Sierra Club\n",
            "Name: everything, dtype: object\n"
          ]
        }
      ],
      "source": [
        "data['everything'] = pd.DataFrame(data['Title'] + ' ' + data['Author'])\n",
        "print (data['everything'].head(5))\n",
        "#for i,j in enumerate(data['everything']):\n",
        "#    data['everything'][i] = data['everything'][i].lower()\n",
        "#data['everything'] = data['everything'].str.lower()"
      ]
    },
    {
      "cell_type": "code",
      "execution_count": 17,
      "metadata": {
        "collapsed": true,
        "id": "xKsR3KFS5h0y"
      },
      "outputs": [],
      "source": [
        "def change(t):\n",
        "    t = t.split()\n",
        "    return ' '.join([(i) for (i) in t if i not in stop])"
      ]
    },
    {
      "cell_type": "code",
      "execution_count": 21,
      "metadata": {
        "colab": {
          "base_uri": "https://localhost:8080/"
        },
        "id": "Xiv00uO_5h0y",
        "outputId": "6f63dadb-7a97-4beb-b099-12b25a3fc4c4"
      },
      "outputs": [
        {
          "output_type": "stream",
          "name": "stderr",
          "text": [
            "[nltk_data] Downloading package stopwords to /root/nltk_data...\n",
            "[nltk_data]   Unzipping corpora/stopwords.zip.\n"
          ]
        },
        {
          "output_type": "execute_result",
          "data": {
            "text/plain": [
              "['i', 'me', 'my', 'myself', 'we', 'our', 'ours', 'ourselves', 'you', \"you're\"]"
            ]
          },
          "metadata": {},
          "execution_count": 21
        }
      ],
      "source": [
        "import nltk\n",
        "nltk.download('stopwords')\n",
        "\n",
        "from nltk.corpus import stopwords\n",
        "stop = list(stopwords.words('english'))\n",
        "stop[:10]"
      ]
    },
    {
      "cell_type": "code",
      "execution_count": null,
      "metadata": {
        "id": "xORsgfLh5h0y"
      },
      "outputs": [],
      "source": [
        "#remove_list = ['the','at','or']\n",
        "#for i,j in enumerate(data['everything']):\n",
        "#    t = data['everything'][i].split()\n",
        "#    data['everything'][i] = ' '.join([str(i) for (i) in t if i not in stop])"
      ]
    },
    {
      "cell_type": "code",
      "execution_count": 22,
      "metadata": {
        "colab": {
          "base_uri": "https://localhost:8080/"
        },
        "id": "O2J46ppQ5h0z",
        "outputId": "67c303d0-b4bd-4a16-d3be-89fbbe83671e"
      },
      "outputs": [
        {
          "output_type": "execute_result",
          "data": {
            "text/plain": [
              "0                      Doug Pug 2016 Wall Calendar Doug Pug\n",
              "1         Moleskine 2016 Weekly Notebook, 12M, Large, Bl...\n",
              "2         365 Cats Color Page-A-Day Calendar 2016 Workma...\n",
              "3          Sierra Club Engagement Calendar 2016 Sierra Club\n",
              "4          Sierra Club Wilderness Calendar 2016 Sierra Club\n",
              "                                ...                        \n",
              "207566    ADC Map People Washington D.C.: Street Map Boo...\n",
              "207567    Washington, D.C., Then Now: 69 Sites Photograp...\n",
              "207568    The Unofficial Guide Washington, D.C. (Unoffic...\n",
              "207569    Washington, D.C. For Dummies (Dummies Travel) ...\n",
              "207570    Fodor's Where Weekend Around Boston, 1st Editi...\n",
              "Name: everything, Length: 207571, dtype: object"
            ]
          },
          "metadata": {},
          "execution_count": 22
        }
      ],
      "source": [
        "data['everything'].apply(change)"
      ]
    },
    {
      "cell_type": "code",
      "execution_count": 23,
      "metadata": {
        "collapsed": true,
        "id": "BA5BhCi15h0z"
      },
      "outputs": [],
      "source": [
        "from sklearn.feature_extraction.text import TfidfVectorizer"
      ]
    },
    {
      "cell_type": "code",
      "execution_count": 24,
      "metadata": {
        "colab": {
          "base_uri": "https://localhost:8080/"
        },
        "id": "uCn_cJvf5h0z",
        "outputId": "74f1605b-86ec-4949-fa64-fe31788fa600"
      },
      "outputs": [
        {
          "output_type": "execute_result",
          "data": {
            "text/plain": [
              "(207571, 58432)"
            ]
          },
          "metadata": {},
          "execution_count": 24
        }
      ],
      "source": [
        "vectorizer = TfidfVectorizer(min_df=2, max_features=70000, strip_accents='unicode',lowercase =True,\n",
        "                            analyzer='word', token_pattern=r'\\w+', use_idf=True, \n",
        "                            smooth_idf=True, sublinear_tf=True, stop_words = 'english')\n",
        "vectors = vectorizer.fit_transform(data['everything'])\n",
        "vectors.shape"
      ]
    },
    {
      "cell_type": "code",
      "execution_count": 26,
      "metadata": {
        "id": "mYjjcM1r5h00"
      },
      "outputs": [],
      "source": [
        "from sklearn.naive_bayes import MultinomialNB\n",
        "from sklearn import metrics\n",
        "from sklearn.model_selection import StratifiedKFold, cross_val_score, train_test_split"
      ]
    },
    {
      "cell_type": "code",
      "execution_count": 27,
      "metadata": {
        "id": "HrP_RODn5h00"
      },
      "outputs": [],
      "source": [
        "X_train, X_test, y_train, y_test = train_test_split(vectors, genre['Genre'], test_size=0.02)"
      ]
    },
    {
      "cell_type": "code",
      "execution_count": 28,
      "metadata": {
        "colab": {
          "base_uri": "https://localhost:8080/"
        },
        "id": "eKjoFwdE5h00",
        "outputId": "a09779e4-a4eb-49fe-bd9d-8fa548c90de8"
      },
      "outputs": [
        {
          "output_type": "stream",
          "name": "stdout",
          "text": [
            "(203419, 58432)\n",
            "(203419,)\n",
            "(4152, 58432)\n",
            "(4152,)\n"
          ]
        }
      ],
      "source": [
        "print (X_train.shape)\n",
        "print (y_train.shape)\n",
        "print (X_test.shape)\n",
        "print (y_test.shape)"
      ]
    },
    {
      "cell_type": "code",
      "execution_count": 29,
      "metadata": {
        "colab": {
          "base_uri": "https://localhost:8080/"
        },
        "id": "FLx1ByFt5h01",
        "outputId": "1c121509-5732-435d-a692-a2c59fa94c37"
      },
      "outputs": [
        {
          "output_type": "execute_result",
          "data": {
            "text/plain": [
              "pandas.core.frame.DataFrame"
            ]
          },
          "metadata": {},
          "execution_count": 29
        }
      ],
      "source": [
        "type(books)"
      ]
    },
    {
      "cell_type": "markdown",
      "metadata": {
        "id": "ypEdkM1j5h01"
      },
      "source": [
        "## Gaussian NB"
      ]
    },
    {
      "cell_type": "code",
      "execution_count": 30,
      "metadata": {
        "colab": {
          "base_uri": "https://localhost:8080/"
        },
        "id": "Jrue11Z45h02",
        "outputId": "e67df26e-b2e4-4bab-b8bd-382d16720938"
      },
      "outputs": [
        {
          "output_type": "stream",
          "name": "stdout",
          "text": [
            "0.5059217004058675\n",
            "0.6088631984585742\n"
          ]
        }
      ],
      "source": [
        "clf = MultinomialNB(alpha=.45)\n",
        "clf.fit(X_train, y_train)\n",
        "pred = clf.predict(X_test)\n",
        "print (metrics.f1_score(y_test, pred, average='macro'))\n",
        "print (metrics.accuracy_score(y_test, pred))"
      ]
    },
    {
      "cell_type": "markdown",
      "metadata": {
        "id": "SYaCSmvc5h03"
      },
      "source": [
        "## Logistic Regression"
      ]
    },
    {
      "cell_type": "code",
      "execution_count": 31,
      "metadata": {
        "colab": {
          "base_uri": "https://localhost:8080/"
        },
        "id": "4M_EMrh05h03",
        "outputId": "f8e6bbf2-6a5b-4dcf-8209-c4dc2ef43c26"
      },
      "outputs": [
        {
          "output_type": "stream",
          "name": "stdout",
          "text": [
            "0.6019321492280649\n",
            "0.6486030828516378\n"
          ]
        }
      ],
      "source": [
        "from sklearn import linear_model\n",
        "clf = linear_model.LogisticRegression(solver= 'sag',max_iter=200,random_state=450)\n",
        "clf.fit(X_train, y_train)\n",
        "pred = clf.predict(X_test)\n",
        "print (metrics.f1_score(y_test, pred, average='macro'))\n",
        "print (metrics.accuracy_score(y_test, pred))"
      ]
    },
    {
      "cell_type": "code",
      "execution_count": 32,
      "metadata": {
        "colab": {
          "base_uri": "https://localhost:8080/"
        },
        "id": "737BvNY25h04",
        "outputId": "5e060ab3-5878-40f0-898f-d0de3a812740"
      },
      "outputs": [
        {
          "output_type": "stream",
          "name": "stdout",
          "text": [
            "(1, 58432)\n"
          ]
        }
      ],
      "source": [
        "text = ['I too had a Love Story']\n",
        "text[0] = text[0].lower()\n",
        "#text = list(text)\n",
        "s = (vectorizer.transform(text))\n",
        "#s = vectorizer.fit_transform(df)\n",
        "print (s.shape)\n",
        "d = (clf.predict(s))"
      ]
    },
    {
      "cell_type": "code",
      "execution_count": 33,
      "metadata": {
        "colab": {
          "base_uri": "https://localhost:8080/",
          "height": 35
        },
        "id": "SIZRTtAs5h04",
        "outputId": "2728be36-4a3b-4c73-893f-b0dd82aa2b07"
      },
      "outputs": [
        {
          "output_type": "execute_result",
          "data": {
            "text/plain": [
              "'Biographies & Memoirs'"
            ],
            "application/vnd.google.colaboratory.intrinsic+json": {
              "type": "string"
            }
          },
          "metadata": {},
          "execution_count": 33
        }
      ],
      "source": [
        "le.inverse_transform(d)[0]"
      ]
    },
    {
      "cell_type": "markdown",
      "metadata": {
        "id": "iqhJzUxX5h04"
      },
      "source": [
        "## Saving Model"
      ]
    },
    {
      "cell_type": "code",
      "execution_count": 36,
      "metadata": {
        "colab": {
          "base_uri": "https://localhost:8080/"
        },
        "id": "s2_IDCP45h05",
        "outputId": "149ca9ad-3147-4f99-ad11-d4195051c488"
      },
      "outputs": [
        {
          "output_type": "stream",
          "name": "stdout",
          "text": [
            "Model saved\n"
          ]
        }
      ],
      "source": [
        "import joblib\n",
        "joblib.dump(clf, '/content/best.pkl')\n",
        "print(\"Model saved\")"
      ]
    },
    {
      "cell_type": "code",
      "execution_count": 37,
      "metadata": {
        "id": "LkiAP6IB5h05"
      },
      "outputs": [],
      "source": [
        "clf = joblib.load('/content/best.pkl')"
      ]
    },
    {
      "cell_type": "code",
      "execution_count": 38,
      "metadata": {
        "colab": {
          "base_uri": "https://localhost:8080/",
          "height": 74
        },
        "id": "6_UDEHZB5h06",
        "outputId": "f62c5b95-65b2-45ff-bf9d-99d6dc1ae803"
      },
      "outputs": [
        {
          "output_type": "execute_result",
          "data": {
            "text/plain": [
              "LogisticRegression(max_iter=200, random_state=450, solver='sag')"
            ],
            "text/html": [
              "<style>#sk-container-id-1 {color: black;background-color: white;}#sk-container-id-1 pre{padding: 0;}#sk-container-id-1 div.sk-toggleable {background-color: white;}#sk-container-id-1 label.sk-toggleable__label {cursor: pointer;display: block;width: 100%;margin-bottom: 0;padding: 0.3em;box-sizing: border-box;text-align: center;}#sk-container-id-1 label.sk-toggleable__label-arrow:before {content: \"▸\";float: left;margin-right: 0.25em;color: #696969;}#sk-container-id-1 label.sk-toggleable__label-arrow:hover:before {color: black;}#sk-container-id-1 div.sk-estimator:hover label.sk-toggleable__label-arrow:before {color: black;}#sk-container-id-1 div.sk-toggleable__content {max-height: 0;max-width: 0;overflow: hidden;text-align: left;background-color: #f0f8ff;}#sk-container-id-1 div.sk-toggleable__content pre {margin: 0.2em;color: black;border-radius: 0.25em;background-color: #f0f8ff;}#sk-container-id-1 input.sk-toggleable__control:checked~div.sk-toggleable__content {max-height: 200px;max-width: 100%;overflow: auto;}#sk-container-id-1 input.sk-toggleable__control:checked~label.sk-toggleable__label-arrow:before {content: \"▾\";}#sk-container-id-1 div.sk-estimator input.sk-toggleable__control:checked~label.sk-toggleable__label {background-color: #d4ebff;}#sk-container-id-1 div.sk-label input.sk-toggleable__control:checked~label.sk-toggleable__label {background-color: #d4ebff;}#sk-container-id-1 input.sk-hidden--visually {border: 0;clip: rect(1px 1px 1px 1px);clip: rect(1px, 1px, 1px, 1px);height: 1px;margin: -1px;overflow: hidden;padding: 0;position: absolute;width: 1px;}#sk-container-id-1 div.sk-estimator {font-family: monospace;background-color: #f0f8ff;border: 1px dotted black;border-radius: 0.25em;box-sizing: border-box;margin-bottom: 0.5em;}#sk-container-id-1 div.sk-estimator:hover {background-color: #d4ebff;}#sk-container-id-1 div.sk-parallel-item::after {content: \"\";width: 100%;border-bottom: 1px solid gray;flex-grow: 1;}#sk-container-id-1 div.sk-label:hover label.sk-toggleable__label {background-color: #d4ebff;}#sk-container-id-1 div.sk-serial::before {content: \"\";position: absolute;border-left: 1px solid gray;box-sizing: border-box;top: 0;bottom: 0;left: 50%;z-index: 0;}#sk-container-id-1 div.sk-serial {display: flex;flex-direction: column;align-items: center;background-color: white;padding-right: 0.2em;padding-left: 0.2em;position: relative;}#sk-container-id-1 div.sk-item {position: relative;z-index: 1;}#sk-container-id-1 div.sk-parallel {display: flex;align-items: stretch;justify-content: center;background-color: white;position: relative;}#sk-container-id-1 div.sk-item::before, #sk-container-id-1 div.sk-parallel-item::before {content: \"\";position: absolute;border-left: 1px solid gray;box-sizing: border-box;top: 0;bottom: 0;left: 50%;z-index: -1;}#sk-container-id-1 div.sk-parallel-item {display: flex;flex-direction: column;z-index: 1;position: relative;background-color: white;}#sk-container-id-1 div.sk-parallel-item:first-child::after {align-self: flex-end;width: 50%;}#sk-container-id-1 div.sk-parallel-item:last-child::after {align-self: flex-start;width: 50%;}#sk-container-id-1 div.sk-parallel-item:only-child::after {width: 0;}#sk-container-id-1 div.sk-dashed-wrapped {border: 1px dashed gray;margin: 0 0.4em 0.5em 0.4em;box-sizing: border-box;padding-bottom: 0.4em;background-color: white;}#sk-container-id-1 div.sk-label label {font-family: monospace;font-weight: bold;display: inline-block;line-height: 1.2em;}#sk-container-id-1 div.sk-label-container {text-align: center;}#sk-container-id-1 div.sk-container {/* jupyter's `normalize.less` sets `[hidden] { display: none; }` but bootstrap.min.css set `[hidden] { display: none !important; }` so we also need the `!important` here to be able to override the default hidden behavior on the sphinx rendered scikit-learn.org. See: https://github.com/scikit-learn/scikit-learn/issues/21755 */display: inline-block !important;position: relative;}#sk-container-id-1 div.sk-text-repr-fallback {display: none;}</style><div id=\"sk-container-id-1\" class=\"sk-top-container\"><div class=\"sk-text-repr-fallback\"><pre>LogisticRegression(max_iter=200, random_state=450, solver=&#x27;sag&#x27;)</pre><b>In a Jupyter environment, please rerun this cell to show the HTML representation or trust the notebook. <br />On GitHub, the HTML representation is unable to render, please try loading this page with nbviewer.org.</b></div><div class=\"sk-container\" hidden><div class=\"sk-item\"><div class=\"sk-estimator sk-toggleable\"><input class=\"sk-toggleable__control sk-hidden--visually\" id=\"sk-estimator-id-1\" type=\"checkbox\" checked><label for=\"sk-estimator-id-1\" class=\"sk-toggleable__label sk-toggleable__label-arrow\">LogisticRegression</label><div class=\"sk-toggleable__content\"><pre>LogisticRegression(max_iter=200, random_state=450, solver=&#x27;sag&#x27;)</pre></div></div></div></div></div>"
            ]
          },
          "metadata": {},
          "execution_count": 38
        }
      ],
      "source": [
        "clf"
      ]
    },
    {
      "cell_type": "markdown",
      "metadata": {
        "id": "IEVBzZG_5h06"
      },
      "source": [
        "## Neural Network"
      ]
    },
    {
      "cell_type": "code",
      "execution_count": null,
      "metadata": {
        "id": "H6fq1gQA5h06"
      },
      "outputs": [],
      "source": [
        "from sklearn.neural_network import MLPClassifier\n",
        "clf = MLPClassifier(activation='logistic', alpha=0.00003, batch_size='auto',\n",
        "                   beta_1=0.9, beta_2=0.999, early_stopping=False,\n",
        "                   epsilon=1e-08, hidden_layer_sizes=(20,), learning_rate='constant',\n",
        "                   learning_rate_init=0.003, max_iter=200, momentum=0.9,\n",
        "                   nesterovs_momentum=True, power_t=0.5, random_state=1, shuffle=True,\n",
        "                   solver='adam', tol=0.0001, validation_fraction=0.1, verbose=False,\n",
        "                   warm_start=False)\n",
        "clf.fit(X_train, y_train) \n",
        "pred = clf.predict(X_test)\n",
        "print (metrics.f1_score(y_test, pred, average='macro'))\n",
        "print (metrics.accuracy_score(y_test, pred))"
      ]
    },
    {
      "cell_type": "code",
      "execution_count": null,
      "metadata": {
        "id": "EBG65cp_5h06",
        "outputId": "01bf34eb-00b1-4588-c7c7-57f184fd4ffa"
      },
      "outputs": [
        {
          "name": "stdout",
          "output_type": "stream",
          "text": [
            "(1, 117281)\n"
          ]
        }
      ],
      "source": [
        "text = ['Until It Fades: A Novel']\n",
        "#text = list(text)\n",
        "s = (vectorizer.transform(text))\n",
        "#s = vectorizer.fit_transform(df)\n",
        "print (s.shape)\n",
        "d = (clf.predict(s))"
      ]
    },
    {
      "cell_type": "code",
      "execution_count": null,
      "metadata": {
        "id": "ZhWKijZX5h07",
        "outputId": "c89fb5df-3417-47c0-c5cd-e1e1cd9b7aae"
      },
      "outputs": [
        {
          "data": {
            "text/plain": [
              "'Literature & Fiction'"
            ]
          },
          "execution_count": 46,
          "metadata": {},
          "output_type": "execute_result"
        }
      ],
      "source": [
        "le.inverse_transform(d)[0]"
      ]
    },
    {
      "cell_type": "markdown",
      "metadata": {
        "id": "5yJY44Rq5h07"
      },
      "source": [
        "## SVM"
      ]
    },
    {
      "cell_type": "code",
      "execution_count": null,
      "metadata": {
        "id": "Idx9RncZ5h07"
      },
      "outputs": [],
      "source": [
        "import xgboost as xgb\n",
        "dtrain = xgb.DMatrix(data=X_train, label = y_train)\n",
        "dtest = xgb.DMatrix(data=X_test)"
      ]
    },
    {
      "cell_type": "code",
      "execution_count": null,
      "metadata": {
        "collapsed": true,
        "id": "Bi9s-YHV5h08"
      },
      "outputs": [],
      "source": [
        "params = {\n",
        "    'objective':'multi:softmax',\n",
        "    'eval_metric':'mlogloss',\n",
        "    'eta':0.025,\n",
        "    'max_depth':10,\n",
        "    'subsample':0.7,\n",
        "    'colsample_bytree':0.7,\n",
        "    'min_child_weight':5,\n",
        "    'num_class': 32\n",
        "    \n",
        "}"
      ]
    },
    {
      "cell_type": "code",
      "execution_count": null,
      "metadata": {
        "collapsed": true,
        "id": "tbOMXyXK5h08"
      },
      "outputs": [],
      "source": [
        "bst = xgb.cv(params, dtrain, num_boost_round=100,\n",
        "early_stopping_rounds=40, nfold=5, verbose_eval=10)"
      ]
    },
    {
      "cell_type": "code",
      "execution_count": null,
      "metadata": {
        "id": "JLMCncz45h09"
      },
      "outputs": [],
      "source": [
        "bst_train = xgb.train(params, dtrain, num_boost_round=10) "
      ]
    },
    {
      "cell_type": "code",
      "execution_count": null,
      "metadata": {
        "collapsed": true,
        "id": "5KeZIVja5h09"
      },
      "outputs": [],
      "source": [
        "p_test = bst_train.predict(dtest)"
      ]
    },
    {
      "cell_type": "code",
      "execution_count": null,
      "metadata": {
        "id": "mEasKhnQ5h09"
      },
      "outputs": [],
      "source": [
        "print (metrics.f1_score(y_test, p_test, average='macro'))\n",
        "print (metrics.accuracy_score(y_test, p_test)) "
      ]
    },
    {
      "cell_type": "code",
      "execution_count": null,
      "metadata": {
        "collapsed": true,
        "id": "m-l9qvDZ5h09"
      },
      "outputs": [],
      "source": [
        "text = ['Fifty Shades of Grey']\n",
        "#text = list(text)\n",
        "s = (vectorizer.transform(text))\n",
        "#s = vectorizer.fit_transform(df)\n",
        "print (s.shape)\n",
        "p = (bst_train.predict(s))"
      ]
    },
    {
      "cell_type": "code",
      "execution_count": null,
      "metadata": {
        "collapsed": true,
        "id": "rCnM0GHR5h0-"
      },
      "outputs": [],
      "source": [
        "le.inverse_transform(d)[0]"
      ]
    }
  ],
  "metadata": {
    "kernelspec": {
      "display_name": "Python 3",
      "language": "python",
      "name": "python3"
    },
    "language_info": {
      "codemirror_mode": {
        "name": "ipython",
        "version": 3
      },
      "file_extension": ".py",
      "mimetype": "text/x-python",
      "name": "python",
      "nbconvert_exporter": "python",
      "pygments_lexer": "ipython3",
      "version": "3.6.0"
    },
    "colab": {
      "provenance": [],
      "include_colab_link": true
    }
  },
  "nbformat": 4,
  "nbformat_minor": 0
}